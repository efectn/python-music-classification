{
 "cells": [
  {
   "metadata": {
    "ExecuteTime": {
     "end_time": "2025-05-23T18:11:50.845367Z",
     "start_time": "2025-05-23T18:11:50.842996Z"
    }
   },
   "cell_type": "code",
   "source": "path = \"/home/efectn/python-music-classification\"",
   "id": "1b41f4b1c94bf186",
   "outputs": [],
   "execution_count": 11
  },
  {
   "cell_type": "code",
   "id": "initial_id",
   "metadata": {
    "collapsed": true,
    "ExecuteTime": {
     "end_time": "2025-05-23T18:11:52.009502Z",
     "start_time": "2025-05-23T18:11:51.790584Z"
    }
   },
   "source": [
    "import tensorflow as tf\n",
    "import numpy as np\n",
    "\n",
    "model = tf.keras.models.load_model(path + \"/models/model_dnn.h5\")\n"
   ],
   "outputs": [],
   "execution_count": 12
  },
  {
   "metadata": {
    "ExecuteTime": {
     "end_time": "2025-05-23T20:12:47.001645Z",
     "start_time": "2025-05-23T20:12:46.379141Z"
    }
   },
   "cell_type": "code",
   "source": [
    "import librosa\n",
    "import math\n",
    "\n",
    "n_fft=2048\n",
    "hop_length=512\n",
    "n_mfcc=13\n",
    "\n",
    "genres = ['blues', 'classical', 'country', 'disco', 'hiphop', 'jazz', 'metal', 'pop', 'reggae', 'rock']\n",
    "\n",
    "audio, fs = librosa.load(path+\"/blues.00002.wav\", sr=22500)\n",
    "\n",
    "duration = librosa.get_duration(y=audio, sr=fs)\n",
    "\n",
    "print(f\"Dosya süresi: {duration:.2f} saniye\")\n",
    "\n",
    "num_segments = int(duration / 2)\n",
    "samples_per_track = fs * duration\n",
    "samps_per_segment = int(samples_per_track/num_segments)\n",
    "mfccs_per_segment = math.ceil(samps_per_segment/hop_length)\n",
    "\n",
    "mfccs = []\n",
    "expected_frames = 88\n",
    "\n",
    "for seg in range(num_segments):\n",
    "    start_sample = seg * samps_per_segment\n",
    "    end_sample = start_sample + samps_per_segment\n",
    "\n",
    "    mfcc = librosa.feature.mfcc(y=audio[start_sample:end_sample], sr=fs, n_fft=n_fft, hop_length=hop_length, n_mfcc=n_mfcc)\n",
    "    mfcc = mfcc.T\n",
    "\n",
    "    if mfcc.shape[0] > expected_frames:\n",
    "        mfcc = mfcc[:expected_frames, :]\n",
    "    elif mfcc.shape[0] < expected_frames:\n",
    "        pad_width = expected_frames - mfcc.shape[0]\n",
    "        mfcc = np.pad(mfcc, ((0, pad_width), (0, 0)), mode='constant')\n",
    "\n",
    "    mfccs.append(mfcc)\n",
    "        \n",
    "X_train_cnn = np.array(mfccs)\n",
    "\n",
    "def make_prediction(model, X):\n",
    "    global genres\n",
    "    preds_probs = []\n",
    "\n",
    "    for X_current in X:\n",
    "        X_current = X_current[np.newaxis, ...]  \n",
    "        pred = model.predict(X_current, verbose=0)[0]\n",
    "        preds_probs.append(pred)\n",
    "\n",
    "    preds_probs = np.array(preds_probs)\n",
    "    avg_probs = np.mean(preds_probs, axis=0)\n",
    "\n",
    "    pred_idx = np.argmax(avg_probs)\n",
    "    pred_genre = genres[pred_idx]\n",
    "    avg_probs_percent = avg_probs * 100\n",
    "\n",
    "    return pred_genre, pred_idx, avg_probs_percent\n",
    "\n",
    "\n",
    "genre_name, genre_index, avg_probs = make_prediction(model, X_train_cnn)\n",
    "\n",
    "print(f\"\\nGenel Tahmin: {genre_name.upper()} (Sınıf ID: {genre_index})\")\n",
    "print(\"Ortalama Olasılıklar:\")\n",
    "for i, genre in enumerate(genres):\n",
    "    print(f\"  {genre:10s}: {avg_probs[i]:5.2f}%\")"
   ],
   "id": "5502438b1480a82b",
   "outputs": [
    {
     "name": "stdout",
     "output_type": "stream",
     "text": [
      "Dosya süresi: 30.01 saniye\n",
      "\n",
      "Genel Tahmin: BLUES (Sınıf ID: 0)\n",
      "Ortalama Olasılıklar:\n",
      "  blues     : 51.53%\n",
      "  classical :  0.13%\n",
      "  country   : 12.98%\n",
      "  disco     :  2.95%\n",
      "  hiphop    :  1.05%\n",
      "  jazz      :  0.40%\n",
      "  metal     :  0.68%\n",
      "  pop       :  1.36%\n",
      "  reggae    : 12.32%\n",
      "  rock      : 16.59%\n"
     ]
    }
   ],
   "execution_count": 27
  },
  {
   "metadata": {},
   "cell_type": "code",
   "outputs": [],
   "execution_count": null,
   "source": "",
   "id": "d7d89c268aa8a13e"
  }
 ],
 "metadata": {
  "kernelspec": {
   "display_name": "Python 3",
   "language": "python",
   "name": "python3"
  },
  "language_info": {
   "codemirror_mode": {
    "name": "ipython",
    "version": 2
   },
   "file_extension": ".py",
   "mimetype": "text/x-python",
   "name": "python",
   "nbconvert_exporter": "python",
   "pygments_lexer": "ipython2",
   "version": "2.7.6"
  }
 },
 "nbformat": 4,
 "nbformat_minor": 5
}
