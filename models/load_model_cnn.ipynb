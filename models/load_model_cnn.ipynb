{
 "cells": [
  {
   "metadata": {
    "ExecuteTime": {
     "end_time": "2025-05-23T18:17:24.151574Z",
     "start_time": "2025-05-23T18:17:24.149399Z"
    }
   },
   "cell_type": "code",
   "source": "path = \"/home/efectn/python-music-classification\"",
   "id": "1b41f4b1c94bf186",
   "outputs": [],
   "execution_count": 3
  },
  {
   "cell_type": "code",
   "id": "initial_id",
   "metadata": {
    "collapsed": true,
    "ExecuteTime": {
     "end_time": "2025-05-23T18:17:27.565246Z",
     "start_time": "2025-05-23T18:17:25.397227Z"
    }
   },
   "source": [
    "import tensorflow as tf\n",
    "import numpy as np\n",
    "\n",
    "# 1. Modeli yükle\n",
    "model = tf.keras.models.load_model(path + \"/models/model_cnn.h5\")\n"
   ],
   "outputs": [
    {
     "name": "stderr",
     "output_type": "stream",
     "text": [
      "2025-05-23 21:17:25.460861: I tensorflow/core/platform/cpu_feature_guard.cc:193] This TensorFlow binary is optimized with oneAPI Deep Neural Network Library (oneDNN) to use the following CPU instructions in performance-critical operations:  SSE4.1 SSE4.2 AVX AVX2 FMA\n",
      "To enable them in other operations, rebuild TensorFlow with the appropriate compiler flags.\n",
      "2025-05-23 21:17:27.379610: I tensorflow/core/platform/cpu_feature_guard.cc:193] This TensorFlow binary is optimized with oneAPI Deep Neural Network Library (oneDNN) to use the following CPU instructions in performance-critical operations:  SSE4.1 SSE4.2 AVX AVX2 FMA\n",
      "To enable them in other operations, rebuild TensorFlow with the appropriate compiler flags.\n"
     ]
    }
   ],
   "execution_count": 4
  },
  {
   "metadata": {
    "ExecuteTime": {
     "end_time": "2025-05-23T20:11:55.163344Z",
     "start_time": "2025-05-23T20:11:55.068975Z"
    }
   },
   "cell_type": "code",
   "source": [
    "import librosa\n",
    "import math\n",
    "import numpy as np\n",
    "\n",
    "n_fft = 2048\n",
    "hop_length = 512\n",
    "n_mfcc = 13\n",
    "segment_duration = 2 \n",
    "target_frames = 88\n",
    "genres = ['blues', 'classical', 'country', 'disco', 'hiphop', 'jazz', 'metal', 'pop', 'reggae', 'rock']\n",
    "\n",
    "audio, fs = librosa.load(path + \"/blues.00002.wav\", sr=22500)\n",
    "duration = librosa.get_duration(y=audio, sr=fs)\n",
    "print(f\"Dosya süresi: {duration:.2f} saniye\")\n",
    "\n",
    "samples_per_segment = int(fs * segment_duration)\n",
    "\n",
    "mid_point = len(audio) // 2\n",
    "start_sample = max(0, mid_point - samples_per_segment // 2)\n",
    "end_sample = start_sample + samples_per_segment\n",
    "segment = audio[start_sample:end_sample]\n",
    "\n",
    "if len(segment) < samples_per_segment:\n",
    "    segment = np.pad(segment, (0, samples_per_segment - len(segment)))\n",
    "\n",
    "mfcc = librosa.feature.mfcc(\n",
    "    y=segment,\n",
    "    sr=fs,\n",
    "    n_fft=n_fft,\n",
    "    hop_length=hop_length,\n",
    "    n_mfcc=n_mfcc\n",
    ").T\n",
    "\n",
    "if mfcc.shape[0] < target_frames:\n",
    "    pad_width = target_frames - mfcc.shape[0]\n",
    "    mfcc = np.pad(mfcc, ((0, pad_width), (0, 0)))\n",
    "elif mfcc.shape[0] > target_frames:\n",
    "    mfcc = mfcc[:target_frames, :]\n",
    "\n",
    "X_input = mfcc[..., np.newaxis]\n",
    "X_input = np.expand_dims(X_input, axis=0)\n",
    "\n",
    "def make_prediction(model, X):\n",
    "    pred = model.predict(X, verbose=0)[0]\n",
    "    pred_idx = np.argmax(pred)\n",
    "    pred_genre = genres[pred_idx]\n",
    "    avg_probs_percent = pred * 100\n",
    "    return pred_genre, pred_idx, avg_probs_percent\n",
    "\n",
    "genre_name, genre_index, avg_probs = make_prediction(model, X_input)\n",
    "\n",
    "print(f\"\\nGenel Tahmin: {genre_name.upper()} (Sınıf ID: {genre_index})\")\n",
    "print(\"Ortalama Olasılıklar:\")\n",
    "for i, genre in enumerate(genres):\n",
    "    print(f\"  {genre:10s}: {avg_probs[i]:5.2f}%\")\n"
   ],
   "id": "5502438b1480a82b",
   "outputs": [
    {
     "name": "stdout",
     "output_type": "stream",
     "text": [
      "Dosya süresi: 30.01 saniye\n",
      "Model girdi shape: (1, 88, 13, 1)\n",
      "\n",
      "Genel Tahmin: BLUES (Sınıf ID: 0)\n",
      "Ortalama Olasılıklar:\n",
      "  blues     : 65.65%\n",
      "  classical :  1.11%\n",
      "  country   :  0.34%\n",
      "  disco     : 28.24%\n",
      "  hiphop    :  2.19%\n",
      "  jazz      :  0.92%\n",
      "  metal     :  1.01%\n",
      "  pop       :  0.12%\n",
      "  reggae    :  0.05%\n",
      "  rock      :  0.36%\n"
     ]
    }
   ],
   "execution_count": 25
  },
  {
   "metadata": {},
   "cell_type": "code",
   "outputs": [],
   "execution_count": null,
   "source": "",
   "id": "d7d89c268aa8a13e"
  }
 ],
 "metadata": {
  "kernelspec": {
   "display_name": "Python 3",
   "language": "python",
   "name": "python3"
  },
  "language_info": {
   "codemirror_mode": {
    "name": "ipython",
    "version": 2
   },
   "file_extension": ".py",
   "mimetype": "text/x-python",
   "name": "python",
   "nbconvert_exporter": "python",
   "pygments_lexer": "ipython2",
   "version": "2.7.6"
  }
 },
 "nbformat": 4,
 "nbformat_minor": 5
}
